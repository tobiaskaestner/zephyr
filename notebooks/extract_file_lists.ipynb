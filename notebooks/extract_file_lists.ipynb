{
 "cells": [
  {
   "cell_type": "code",
   "execution_count": null,
   "id": "0",
   "metadata": {},
   "outputs": [],
   "source": [
    "from pathlib import Path\n",
    "import json\n",
    "import pandas as pd"
   ]
  },
  {
   "cell_type": "code",
   "execution_count": null,
   "id": "1",
   "metadata": {},
   "outputs": [],
   "source": [
    "df = pd.read_csv(\"cortex-m_kernel_tests_and_samples.csv\")\n",
    "\n"
   ]
  },
  {
   "cell_type": "code",
   "execution_count": null,
   "id": "2",
   "metadata": {},
   "outputs": [],
   "source": [
    "files=df['file']"
   ]
  },
  {
   "cell_type": "code",
   "execution_count": null,
   "id": "3",
   "metadata": {},
   "outputs": [],
   "source": [
    "#files=files.drop_duplicates()\n",
    "len(files)"
   ]
  },
  {
   "cell_type": "code",
   "execution_count": null,
   "id": "4",
   "metadata": {},
   "outputs": [],
   "source": [
    "files.drop_duplicates().to_csv('cortex-m_kernel_tests_and_samples_unique_files.csv')"
   ]
  },
  {
   "cell_type": "code",
   "execution_count": null,
   "id": "5",
   "metadata": {},
   "outputs": [],
   "source": [
    "platform='mps2_an385'\n",
    "test_name='samples/basic/minimal/sample.minimal.no-mt-no-timers.arm'\n",
    "filter = (df['platform'].str.startswith(platform)) & (df['test_name'].str.startswith(test_name))\n",
    "\n",
    "unique_files = df[filter].drop_duplicates(subset='file')\n",
    "\n",
    "unique_files.file[unique_files.file.str.startswith('zephyr/')].sort_values()\n"
   ]
  },
  {
   "cell_type": "code",
   "execution_count": null,
   "id": "6",
   "metadata": {},
   "outputs": [],
   "source": [
    "#unique_files[unique_files['file'].str.startswith('zephyr/')].sort_values(by='file').to_csv('qemu_cortex_m3_hello_world_samples_intree_files.csv',columns=['file'], index=False)\n",
    "unique_files[unique_files['file'].str.startswith('zephyr/')].sort_values(by='file').to_csv(f'{platform}_{ test_name.replace(\"/\",\"_\") }_intree_files.csv',columns=['file'], index=False)"
   ]
  },
  {
   "cell_type": "code",
   "execution_count": null,
   "id": "7",
   "metadata": {},
   "outputs": [],
   "source": [
    "\n",
    "fname = f'{platform}_{ test_name.replace(\"/\",\"_\") }_doxy_input'\n",
    "collection = unique_files.file[unique_files.file.str.startswith('zephyr/')].sort_values().str.replace('zephyr/','@ZEPHYR_BASE@/', 1)\n",
    "\n",
    "with open(fname, 'w') as f:\n",
    "    f.write(\"INPUT = @ZEPHYR_BASE@/doc/_doxygen/mainpage.md \\\\\\n\\\n",
    "             @ZEPHYR_BASE@/doc/_doxygen/groups.dox \\\\\\n\")\n",
    "    \n",
    "    for fname in collection[:-2]:\n",
    "            f.write(f\"{fname} \\\\\\n\")\n",
    "\n",
    "    f.write(f\"{collection.iloc[-1]} \\n\")"
   ]
  },
  {
   "cell_type": "code",
   "execution_count": null,
   "id": "8",
   "metadata": {},
   "outputs": [],
   "source": [
    "type(collection.str.replace('zephyr/','foo'))\n"
   ]
  },
  {
   "cell_type": "code",
   "execution_count": null,
   "id": "9",
   "metadata": {},
   "outputs": [],
   "source": []
  }
 ],
 "metadata": {
  "kernelspec": {
   "display_name": "Python 3 (ipykernel)",
   "language": "python",
   "name": "python3"
  },
  "language_info": {
   "codemirror_mode": {
    "name": "ipython",
    "version": 3
   },
   "file_extension": ".py",
   "mimetype": "text/x-python",
   "name": "python",
   "nbconvert_exporter": "python",
   "pygments_lexer": "ipython3",
   "version": "3.11.8"
  }
 },
 "nbformat": 4,
 "nbformat_minor": 5
}
